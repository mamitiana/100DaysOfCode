{
 "cells": [
  {
   "cell_type": "code",
   "execution_count": 2,
   "metadata": {
    "id": "fH113x7XbyQ6"
   },
   "outputs": [],
   "source": [
    "import torch\n",
    "import numpy as np\n",
    "class LinearRegressionModel():\n",
    "    def __init__(self,X , y):\n",
    "        ''' X , y are np array '''\n",
    "        self.inputs = torch.from_numpy(X)\n",
    "        self.targets = torch.from_numpy(y)\n",
    "        self.weight = torch.randn(y.shape[1] , X.shape[1],requires_grad=True )\n",
    "        self.bias = torch.randn( y.shape[1] , requires_grad=True)\n",
    "    def fit(self,epoch):\n",
    "        # y = w X + b  (w and b are the our hyperparameter to optimise)\n",
    "        '''\n",
    "        the fit is gradient descent algorthim.We update the hyperparameter (w and b) on each steps in the algorithms.\n",
    "        '''\n",
    "        for i in range(epoch):\n",
    "            preds = self.predict(self.inputs , is_tensor=True)\n",
    "            loss = self.mse( preds , self.targets )\n",
    "            loss.backward()\n",
    "            with torch.no_grad():\n",
    "                self.weight -= self.weight.grad* 1e-5\n",
    "                self.bias -= self.bias.grad* 1e-5\n",
    "                self.weight.grad.zero_()\n",
    "                self.bias.grad.zero_()      \n",
    "    def predict(self,X , is_tensor = False):\n",
    "        if is_tensor==False:\n",
    "            X = torch.from_numpy(X)\n",
    "        return X @ self.weight.t()  + self.bias\n",
    "    def mse(self,ypred,  yreal):\n",
    "        ''' mean squared error, ypred and yreal are tensor  '''\n",
    "        diff = ypred - yreal\n",
    "        return torch.sum(diff*diff ) /diff.numel()"
   ]
  },
  {
   "cell_type": "code",
   "execution_count": 5,
   "metadata": {
    "colab": {
     "base_uri": "https://localhost:8080/"
    },
    "id": "I3DtKzb0wNv_",
    "outputId": "dda64250-da13-4d2d-c11c-08e851b0ea5f"
   },
   "outputs": [
    {
     "name": "stdout",
     "output_type": "stream",
     "text": [
      "prediction for the input x\n",
      "tensor([[ 60.8676,  74.5137],\n",
      "        [ 75.1639,  95.0389],\n",
      "        [128.7612, 139.0097],\n",
      "        [ 40.9600,  59.5409],\n",
      "        [ 78.2052,  96.4108]], grad_fn=<AddBackward0>)\n"
     ]
    }
   ],
   "source": [
    "inputs = np.array([[73, 67, 43], [91, 88, 64], [87, 134, 58], [102, 43, 37], [69, 96, 70]], dtype='float32')\n",
    "targets = np.array([[56, 70], [81, 101], [119, 133], [22, 37],  [103, 119]], dtype='float32')\n",
    "lm = LinearRegressionModel(inputs , targets)\n",
    "lm.fit(200)\n",
    "prediction = lm.predict(inputs)\n",
    "print('prediction for the input x')\n",
    "print(prediction)"
   ]
  },
  {
   "cell_type": "code",
   "execution_count": 6,
   "metadata": {
    "colab": {
     "base_uri": "https://localhost:8080/"
    },
    "id": "doa6qHrLyvax",
    "outputId": "5e681cfc-c3c4-4bfd-9420-6671495bf3f7"
   },
   "outputs": [
    {
     "name": "stdout",
     "output_type": "stream",
     "text": [
      "tensor(223.7691, grad_fn=<DivBackward0>)\n"
     ]
    }
   ],
   "source": [
    "calculatedLoss = lm.mse( prediction, torch.from_numpy(targets) )\n",
    "print(calculatedLoss)"
   ]
  },
  {
   "cell_type": "code",
   "execution_count": null,
   "metadata": {
    "id": "gdx31ivD1FJU"
   },
   "outputs": [],
   "source": []
  }
 ],
 "metadata": {
  "colab": {
   "collapsed_sections": [],
   "name": "day2.ipynb",
   "provenance": []
  },
  "kernelspec": {
   "display_name": "Python 3",
   "language": "python",
   "name": "python3"
  },
  "language_info": {
   "codemirror_mode": {
    "name": "ipython",
    "version": 3
   },
   "file_extension": ".py",
   "mimetype": "text/x-python",
   "name": "python",
   "nbconvert_exporter": "python",
   "pygments_lexer": "ipython3",
   "version": "3.7.4"
  }
 },
 "nbformat": 4,
 "nbformat_minor": 1
}
