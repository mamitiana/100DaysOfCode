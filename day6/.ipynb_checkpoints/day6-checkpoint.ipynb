{
 "cells": [
  {
   "cell_type": "code",
   "execution_count": 3,
   "metadata": {
    "id": "_RtglzYYGF-5"
   },
   "outputs": [],
   "source": [
    "import pandas as pd\n",
    "from sklearn.feature_extraction.text import TfidfVectorizer\n",
    "from sklearn.metrics.pairwise import linear_kernel"
   ]
  },
  {
   "cell_type": "code",
   "execution_count": 4,
   "metadata": {
    "id": "szyY1cdDVqMw"
   },
   "outputs": [],
   "source": [
    "class MovieRecomendation():\n",
    "  def __init__(self , colToAnalyse=\"overview\" ,filepath = 'movies_metadata.csv' ):\n",
    "\n",
    "    metadata = pd.read_csv(filepath, low_memory=False)\n",
    "    self.metadata = metadata.head(len(metadata)//2 )\n",
    "    tfidf = TfidfVectorizer(stop_words='english')    \n",
    "    self.metadata[colToAnalyse] = self.metadata[colToAnalyse].fillna('')\n",
    "    tfidf_matrix = tfidf.fit_transform(self.metadata[colToAnalyse])    \n",
    "    self.cosine_sim = linear_kernel(tfidf_matrix, tfidf_matrix)  \n",
    "  \n",
    "  def getRecommendation(self, title):\n",
    "    indices = pd.Series(self.metadata.index, index=self.metadata['title']).drop_duplicates()\n",
    "    idx = indices[title]\n",
    "    sim_scores = list(enumerate(self.cosine_sim[idx]))\n",
    "    sim_scores = sorted(sim_scores, key=lambda x: x[1], reverse=True)\n",
    "    sim_scores = sim_scores[1:11]\n",
    "    movie_indices = [i[0] for i in sim_scores]\n",
    "\n",
    "    return self.metadata['title'].iloc[movie_indices]\n",
    "\n",
    "movieRec = MovieRecomendation()\n",
    "movieRec.getRecommendation('The Dark Knight Rises')\n"
   ]
  },
  {
   "cell_type": "code",
   "execution_count": 6,
   "metadata": {
    "colab": {
     "base_uri": "https://localhost:8080/"
    },
    "id": "BEkAP0baWW5i",
    "outputId": "5f72bf4a-7a44-4a41-ee4e-6beb457b71f5"
   },
   "outputs": [
    {
     "data": {
      "text/plain": [
       "12481                                      The Dark Knight\n",
       "150                                         Batman Forever\n",
       "1328                                        Batman Returns\n",
       "15511                           Batman: Under the Red Hood\n",
       "585                                                 Batman\n",
       "21194    Batman Unmasked: The Psychology of the Dark Kn...\n",
       "9230                    Batman Beyond: Return of the Joker\n",
       "18035                                     Batman: Year One\n",
       "19792              Batman: The Dark Knight Returns, Part 1\n",
       "3095                          Batman: Mask of the Phantasm\n",
       "Name: title, dtype: object"
      ]
     },
     "execution_count": 6,
     "metadata": {
      "tags": []
     },
     "output_type": "execute_result"
    }
   ],
   "source": []
  },
  {
   "cell_type": "code",
   "execution_count": 1,
   "metadata": {
    "id": "UVttwNIEX3Hy"
   },
   "outputs": [],
   "source": [
    "import json"
   ]
  },
  {
   "cell_type": "code",
   "execution_count": 2,
   "metadata": {},
   "outputs": [],
   "source": [
    "import json\n",
    "\n",
    "with open('commune_idf_sample5.geojson') as json_file:\n",
    "    data = json.load(json_file)"
   ]
  },
  {
   "cell_type": "code",
   "execution_count": 5,
   "metadata": {
    "collapsed": true
   },
   "outputs": [
    {
     "data": {
      "text/plain": [
       "{'type': 'FeatureCollection',\n",
       " 'crs': {'type': 'name',\n",
       "  'properties': {'name': 'urn:ogc:def:crs:OGC:1.3:CRS84'}},\n",
       " 'features': [{'type': 'Feature',\n",
       "   'properties': {'code': '77368', 'nom': 'Poigny', 'id': '77368'},\n",
       "   'geometry': {'type': 'Polygon',\n",
       "    'coordinates': [[[3.250134021146162, 48.56198501063892],\n",
       "      [3.270799308802724, 48.55110910449593],\n",
       "      [3.308495470763704, 48.54444148632],\n",
       "      [3.306816764424362, 48.5361410886214],\n",
       "      [3.286188071956947, 48.52813405478322],\n",
       "      [3.269717017958621, 48.53826577644824],\n",
       "      [3.24322527964111, 48.55969648286379],\n",
       "      [3.250134021146162, 48.56198501063892]]]}},\n",
       "  {'type': 'Feature',\n",
       "   'properties': {'code': '94037', 'nom': 'Gentilly', 'id': '94037'},\n",
       "   'geometry': {'type': 'Polygon',\n",
       "    'coordinates': [[[2.331895313988745, 48.81701271305569],\n",
       "      [2.356463428430291, 48.81595128908539],\n",
       "      [2.344856549104409, 48.80541037414988],\n",
       "      [2.329063222575344, 48.813786044759134],\n",
       "      [2.331895313988745, 48.81701271305569]]]}},\n",
       "  {'type': 'Feature',\n",
       "   'properties': {'code': '91041', 'nom': 'Avrainville', 'id': '91041'},\n",
       "   'geometry': {'type': 'Polygon',\n",
       "    'coordinates': [[[2.23403801009056, 48.54005379846772],\n",
       "      [2.223554583763716, 48.55088898889505],\n",
       "      [2.226369144502723, 48.56675815267651],\n",
       "      [2.238079101434062, 48.576135402844734],\n",
       "      [2.241596210061337, 48.57853275596378],\n",
       "      [2.25918689410627, 48.57323711062458],\n",
       "      [2.263504914735424, 48.56210909794976],\n",
       "      [2.253302735697696, 48.54191256868632],\n",
       "      [2.258799758637183, 48.53256408320481],\n",
       "      [2.248825676239885, 48.53195272063503],\n",
       "      [2.23403801009056, 48.54005379846772]]]}},\n",
       "  {'type': 'Feature',\n",
       "   'properties': {'code': '93005', 'nom': 'Aulnay-sous-Bois', 'id': '93005'},\n",
       "   'geometry': {'type': 'Polygon',\n",
       "    'coordinates': [[[2.459489959611593, 48.95504632683333],\n",
       "      [2.467328349758979, 48.96433475385722],\n",
       "      [2.496009495667324, 48.97272279718952],\n",
       "      [2.524146063258125, 48.950572281310365],\n",
       "      [2.507111880027107, 48.93556663001638],\n",
       "      [2.517563921864038, 48.925663154559494],\n",
       "      [2.507299294877434, 48.91866092556631],\n",
       "      [2.4917336814827, 48.91687826150444],\n",
       "      [2.47939697783059, 48.91977496079717],\n",
       "      [2.484243680690486, 48.93604594038147],\n",
       "      [2.471635405857086, 48.95040631659445],\n",
       "      [2.459489959611593, 48.95504632683333]]]}},\n",
       "  {'type': 'Feature',\n",
       "   'properties': {'code': '77086', 'nom': 'Chapelle-Gauthier', 'id': '77086'},\n",
       "   'geometry': {'type': 'Polygon',\n",
       "    'coordinates': [[[2.913201962303149, 48.55135872987469],\n",
       "      [2.879650732858126, 48.52891237693313],\n",
       "      [2.881298163683685, 48.516117555656926],\n",
       "      [2.893754941051109, 48.512967312610115],\n",
       "      [2.869860779233648, 48.506214646115694],\n",
       "      [2.86450548976644, 48.511871557829934],\n",
       "      [2.844113520550594, 48.51018682384128],\n",
       "      [2.83876130821763, 48.51600898832688],\n",
       "      [2.811083371453728, 48.52391150873435],\n",
       "      [2.791499487503804, 48.524292577555926],\n",
       "      [2.801963302176831, 48.532676510134955],\n",
       "      [2.820765993515979, 48.52793860917059],\n",
       "      [2.854053028673466, 48.528946677892584],\n",
       "      [2.855928982854164, 48.54614867434554],\n",
       "      [2.879659886659092, 48.542630785350724],\n",
       "      [2.882393265056944, 48.55008187260105],\n",
       "      [2.890599312117109, 48.55885135496623],\n",
       "      [2.901044429604859, 48.56046170084708],\n",
       "      [2.913201962303149, 48.55135872987469]]]}},\n",
       "  {'type': 'Feature',\n",
       "   'properties': {'code': '78513', 'nom': 'Queue-les-Yvelines', 'id': '78513'},\n",
       "   'geometry': {'type': 'Polygon',\n",
       "    'coordinates': [[[1.791087780778701, 48.80957438814939],\n",
       "      [1.788989223375125, 48.79819735136978],\n",
       "      [1.767947632757352, 48.79182535055018],\n",
       "      [1.729075343879843, 48.79819138395201],\n",
       "      [1.748342573804534, 48.80323391512851],\n",
       "      [1.781204884682767, 48.816399901415934],\n",
       "      [1.791087780778701, 48.80957438814939]]]}},\n",
       "  {'type': 'Feature',\n",
       "   'properties': {'code': '77039',\n",
       "    'nom': 'Boissise-la-Bertrand',\n",
       "    'id': '77039'},\n",
       "   'geometry': {'type': 'Polygon',\n",
       "    'coordinates': [[[2.582072569927205, 48.546895923509226],\n",
       "      [2.596554393401112, 48.545335702875626],\n",
       "      [2.611346765747546, 48.53648818665885],\n",
       "      [2.60882948198527, 48.530740619562955],\n",
       "      [2.600735166649728, 48.515825553671],\n",
       "      [2.587834376166477, 48.52057633507221],\n",
       "      [2.581449986564338, 48.528146539078314],\n",
       "      [2.5608955112323, 48.53565587803924],\n",
       "      [2.562416272789295, 48.543334878563265],\n",
       "      [2.582072569927205, 48.546895923509226]]]}},\n",
       "  {'type': 'Feature',\n",
       "   'properties': {'code': '78505', 'nom': 'Prunay-le-Temple', 'id': '78505'},\n",
       "   'geometry': {'type': 'Polygon',\n",
       "    'coordinates': [[[1.664097332299703, 48.87175174312056],\n",
       "      [1.689784025572778, 48.87288115084299],\n",
       "      [1.696313058344683, 48.86860818631366],\n",
       "      [1.670258449557493, 48.844585092057805],\n",
       "      [1.658914411297187, 48.84163414446017],\n",
       "      [1.652197378614888, 48.84528242287145],\n",
       "      [1.658777176208891, 48.867087110272315],\n",
       "      [1.664097332299703, 48.87175174312056]]]}},\n",
       "  {'type': 'Feature',\n",
       "   'properties': {'code': '94080', 'nom': 'Vincennes', 'id': '94080'},\n",
       "   'geometry': {'type': 'Polygon',\n",
       "    'coordinates': [[[2.447852122293119, 48.844801161592635],\n",
       "      [2.427571108900117, 48.841567088989564],\n",
       "      [2.418968740818384, 48.84933201124377],\n",
       "      [2.447103397771503, 48.85115610761063],\n",
       "      [2.447852122293119, 48.844801161592635]]]}},\n",
       "  {'type': 'Feature',\n",
       "   'properties': {'code': '91294', 'nom': 'Guillerval', 'id': '91294'},\n",
       "   'geometry': {'type': 'Polygon',\n",
       "    'coordinates': [[[2.072970737172452, 48.34020938559621],\n",
       "      [2.061831565321016, 48.34351378085326],\n",
       "      [2.058589494665777, 48.35725436091282],\n",
       "      [2.04418886958235, 48.36072907807555],\n",
       "      [2.050594168894207, 48.38510966658161],\n",
       "      [2.071615030046243, 48.39259097354121],\n",
       "      [2.095146068033067, 48.38409952355093],\n",
       "      [2.109784740409104, 48.37311665860906],\n",
       "      [2.106209970841588, 48.36374595171197],\n",
       "      [2.072970737172452, 48.34020938559621]]]}},\n",
       "  {'type': 'Feature',\n",
       "   'properties': {'code': '77388', 'nom': 'Reuil-en-Brie', 'id': '77388'},\n",
       "   'geometry': {'type': 'Polygon',\n",
       "    'coordinates': [[[3.140557934640085, 48.95893390140145],\n",
       "      [3.160493374858112, 48.96717284530502],\n",
       "      [3.172511327690297, 48.97099587330541],\n",
       "      [3.184298169480915, 48.95536761417278],\n",
       "      [3.183537431433974, 48.94487457627512],\n",
       "      [3.167052890502323, 48.947083857452576],\n",
       "      [3.150852577101001, 48.94830780222699],\n",
       "      [3.140557934640085, 48.95893390140145]]]}},\n",
       "  {'type': 'Feature',\n",
       "   'properties': {'code': '91085',\n",
       "    'nom': 'Boissy-sous-Saint-Yon',\n",
       "    'id': '91085'},\n",
       "   'geometry': {'type': 'Polygon',\n",
       "    'coordinates': [[[2.211118362463291, 48.569617645787375],\n",
       "      [2.226369144502723, 48.56675815267651],\n",
       "      [2.223554583763716, 48.55088898889505],\n",
       "      [2.23403801009056, 48.54005379846772],\n",
       "      [2.220357247288195, 48.53172445675242],\n",
       "      [2.208230369748835, 48.53378539179508],\n",
       "      [2.192640118891314, 48.54253272111631],\n",
       "      [2.188209487346612, 48.546937620011505],\n",
       "      [2.201884171974438, 48.55648498199178],\n",
       "      [2.211118362463291, 48.569617645787375]]]}},\n",
       "  {'type': 'Feature',\n",
       "   'properties': {'code': '91079', 'nom': 'Boissy-la-Rivière', 'id': '91079'},\n",
       "   'geometry': {'type': 'Polygon',\n",
       "    'coordinates': [[[2.14754798717589, 48.377811977194575],\n",
       "      [2.125646868132594, 48.38645177900922],\n",
       "      [2.127582885192153, 48.39270112382732],\n",
       "      [2.190042653056272, 48.38880765667035],\n",
       "      [2.203207766981195, 48.39541078887325],\n",
       "      [2.218515860694113, 48.394415030508405],\n",
       "      [2.209692876701483, 48.38370393829299],\n",
       "      [2.178830579602417, 48.36805485687769],\n",
       "      [2.152642446912629, 48.36757357610334],\n",
       "      [2.14754798717589, 48.377811977194575]]]}},\n",
       "  {'type': 'Feature',\n",
       "   'properties': {'code': '95572',\n",
       "    'nom': \"Saint-Ouen-l'Aumône\",\n",
       "    'id': '95572'},\n",
       "   'geometry': {'type': 'Polygon',\n",
       "    'coordinates': [[[2.116063868555529, 49.02316716542522],\n",
       "      [2.095793873352153, 49.03607311914535],\n",
       "      [2.101208878037684, 49.0471922123438],\n",
       "      [2.126999784945176, 49.06399980352689],\n",
       "      [2.141573887716158, 49.066451712865565],\n",
       "      [2.151238894474406, 49.061215093749716],\n",
       "      [2.155776446106052, 49.036311929489685],\n",
       "      [2.128675693652125, 49.02287268358595],\n",
       "      [2.116063868555529, 49.02316716542522]]]}},\n",
       "  {'type': 'Feature',\n",
       "   'properties': {'code': '78049', 'nom': 'Bazemont', 'id': '78049'},\n",
       "   'geometry': {'type': 'Polygon',\n",
       "    'coordinates': [[[1.883579452390072, 48.917170339678535],\n",
       "      [1.878231875877711, 48.918991058623284],\n",
       "      [1.853884047638998, 48.92591053751903],\n",
       "      [1.852237513943501, 48.93434871956596],\n",
       "      [1.859223182585894, 48.94571120676077],\n",
       "      [1.869923799449732, 48.947143585432954],\n",
       "      [1.884798843046303, 48.94050187693437],\n",
       "      [1.893751480761123, 48.93294941570946],\n",
       "      [1.90114158223376, 48.929464986163865],\n",
       "      [1.883579452390072, 48.917170339678535]]]}}]}"
      ]
     },
     "execution_count": 5,
     "metadata": {},
     "output_type": "execute_result"
    }
   ],
   "source": [
    "data"
   ]
  },
  {
   "cell_type": "code",
   "execution_count": 11,
   "metadata": {
    "scrolled": false
   },
   "outputs": [],
   "source": [
    "for i in range(len(data[\"features\"] )):\n",
    "    data[\"features\"][i][\"id\"] = data[\"features\"][0][\"properties\"]['id']"
   ]
  },
  {
   "cell_type": "code",
   "execution_count": 14,
   "metadata": {},
   "outputs": [],
   "source": [
    "with open('commune_idf_sample51.geojson', 'w') as json_file:\n",
    "    json.dump(data, json_file)"
   ]
  },
  {
   "cell_type": "code",
   "execution_count": null,
   "metadata": {},
   "outputs": [],
   "source": []
  }
 ],
 "metadata": {
  "colab": {
   "collapsed_sections": [],
   "name": "Untitled5.ipynb",
   "provenance": []
  },
  "kernelspec": {
   "display_name": "Python 3",
   "language": "python",
   "name": "python3"
  },
  "language_info": {
   "codemirror_mode": {
    "name": "ipython",
    "version": 3
   },
   "file_extension": ".py",
   "mimetype": "text/x-python",
   "name": "python",
   "nbconvert_exporter": "python",
   "pygments_lexer": "ipython3",
   "version": "3.7.4"
  }
 },
 "nbformat": 4,
 "nbformat_minor": 1
}
