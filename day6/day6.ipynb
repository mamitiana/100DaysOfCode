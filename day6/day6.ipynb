{
  "nbformat": 4,
  "nbformat_minor": 0,
  "metadata": {
    "colab": {
      "name": "Untitled5.ipynb",
      "provenance": [],
      "collapsed_sections": []
    },
    "kernelspec": {
      "name": "python3",
      "display_name": "Python 3"
    },
    "language_info": {
      "name": "python"
    }
  },
  "cells": [
    {
      "cell_type": "code",
      "metadata": {
        "id": "_RtglzYYGF-5"
      },
      "source": [
        "import pandas as pd\n",
        "from sklearn.feature_extraction.text import TfidfVectorizer\n",
        "from sklearn.metrics.pairwise import linear_kernel"
      ],
      "execution_count": 3,
      "outputs": []
    },
    {
      "cell_type": "code",
      "metadata": {
        "id": "szyY1cdDVqMw"
      },
      "source": [
        "class MovieRecomendation():\n",
        "  def __init__(self , colToAnalyse=\"overview\" ,filepath = 'movies_metadata.csv' ):\n",
        "\n",
        "    metadata = pd.read_csv(filepath, low_memory=False)\n",
        "    self.metadata = metadata.head(len(metadata)//2 )\n",
        "    tfidf = TfidfVectorizer(stop_words='english')    \n",
        "    self.metadata[colToAnalyse] = self.metadata[colToAnalyse].fillna('')\n",
        "    tfidf_matrix = tfidf.fit_transform(self.metadata[colToAnalyse])    \n",
        "    self.cosine_sim = linear_kernel(tfidf_matrix, tfidf_matrix)  \n",
        "  \n",
        "  def getRecommendation(self, title):\n",
        "    indices = pd.Series(self.metadata.index, index=self.metadata['title']).drop_duplicates()\n",
        "    idx = indices[title]\n",
        "    sim_scores = list(enumerate(self.cosine_sim[idx]))\n",
        "    sim_scores = sorted(sim_scores, key=lambda x: x[1], reverse=True)\n",
        "    sim_scores = sim_scores[1:11]\n",
        "    movie_indices = [i[0] for i in sim_scores]\n",
        "\n",
        "    return self.metadata['title'].iloc[movie_indices]\n",
        "\n",
        "movieRec = MovieRecomendation()\n",
        "movieRec.getRecommendation('The Dark Knight Rises')\n"
      ],
      "execution_count": 4,
      "outputs": []
    },
    {
      "cell_type": "code",
      "metadata": {
        "colab": {
          "base_uri": "https://localhost:8080/"
        },
        "id": "BEkAP0baWW5i",
        "outputId": "5f72bf4a-7a44-4a41-ee4e-6beb457b71f5"
      },
      "source": [
        ""
      ],
      "execution_count": 6,
      "outputs": [
        {
          "output_type": "execute_result",
          "data": {
            "text/plain": [
              "12481                                      The Dark Knight\n",
              "150                                         Batman Forever\n",
              "1328                                        Batman Returns\n",
              "15511                           Batman: Under the Red Hood\n",
              "585                                                 Batman\n",
              "21194    Batman Unmasked: The Psychology of the Dark Kn...\n",
              "9230                    Batman Beyond: Return of the Joker\n",
              "18035                                     Batman: Year One\n",
              "19792              Batman: The Dark Knight Returns, Part 1\n",
              "3095                          Batman: Mask of the Phantasm\n",
              "Name: title, dtype: object"
            ]
          },
          "metadata": {
            "tags": []
          },
          "execution_count": 6
        }
      ]
    },
    {
      "cell_type": "code",
      "metadata": {
        "id": "UVttwNIEX3Hy"
      },
      "source": [
        ""
      ],
      "execution_count": null,
      "outputs": []
    }
  ]
}