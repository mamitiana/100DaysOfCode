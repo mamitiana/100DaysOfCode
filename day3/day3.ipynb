{
 "cells": [
  {
   "cell_type": "markdown",
   "metadata": {},
   "source": [
    "Tutorial links:\n",
    "    \n",
    "Neural network version with tensorflow, keras\n",
    "\n",
    "https://keras.io/examples/structured_data/collaborative_filtering_movielens/\n",
    "    \n",
    "    \n",
    "https://towardsdatascience.com/movie-recommendation-system-based-on-movielens-ef0df580cd0e\n",
    "    \n",
    "        \n",
    "https://www.kaggle.com/indralin/movielens-project-1-2-collaborative-filtering\n",
    "    \n",
    "    \n",
    "https://realpython.com/build-recommendation-engine-collaborative-filtering/\n",
    "    "
   ]
  },
  {
   "cell_type": "markdown",
   "metadata": {},
   "source": [
    "Day 3: 100 days of Daily Coding!\n",
    "    \n",
    "[Recommender system]\n",
    "From Today and for the next few days, i'm develloping, recommendation enginein python.\n",
    "\n",
    "A recommendation engine is a model  suggest product, service to users based on their preference, behaivoir, experience present in the data. \n",
    "\n",
    "The final goal of this series is to build recommendation engine for movie lens data.\n",
    "\n",
    "In our life, as human we can says how things be alike, similary or diffrent. But in data, we use the \"distance\" metric to says how much \n",
    "\n",
    "euclidean: more the value is less, the more the two vector is alike in eulidean distance\n",
    "cosine similarity: it represent the angles between the two vector.\n"
   ]
  },
  {
   "cell_type": "code",
   "execution_count": 11,
   "metadata": {},
   "outputs": [
    {
     "name": "stdout",
     "output_type": "stream",
     "text": [
      "euclidean\n",
      "2.23606797749979\n",
      "3.1622776601683795\n",
      "5.0\n",
      "cosine\n",
      "0.0\n",
      "3.141592653589793\n",
      "2.356194490192345\n"
     ]
    }
   ],
   "source": [
    "import numpy as np\n",
    "def euclidean(x, y):\n",
    "    diff = x- y\n",
    "    return np.sqrt( np.dot(diff,diff))\n",
    "\n",
    "def cosine_similarity( x , y):\n",
    "    ''' x , y are np arrary\n",
    "    dot_product(xy)//(norm(x)* norm(y ))\n",
    "    '''\n",
    "    return  np.arccos(  np.dot(x, y)/ np.sqrt( (np.dot(x,x) * np.dot(y,y)) )  ) \n",
    "\n",
    "a = np.array([1, 2])\n",
    "b = np.array( [2, 4])\n",
    "c = np.array( [3 ,1 ])\n",
    "d = np.array( [-1,-2] )\n",
    "print(\"euclidean\")\n",
    "print(euclidean(c, a) )\n",
    "print(euclidean(c, b))\n",
    "print( euclidean(c, d) )\n",
    "print('cosine')\n",
    "print(cosine_similarity(a , b))\n",
    "print(cosine_similarity(a , d)) # pi- in opposite direction \n",
    "print(cosine_similarity(c , d))"
   ]
  },
  {
   "cell_type": "code",
   "execution_count": null,
   "metadata": {},
   "outputs": [],
   "source": []
  }
 ],
 "metadata": {
  "kernelspec": {
   "display_name": "Python 3",
   "language": "python",
   "name": "python3"
  },
  "language_info": {
   "codemirror_mode": {
    "name": "ipython",
    "version": 3
   },
   "file_extension": ".py",
   "mimetype": "text/x-python",
   "name": "python",
   "nbconvert_exporter": "python",
   "pygments_lexer": "ipython3",
   "version": "3.7.4"
  }
 },
 "nbformat": 4,
 "nbformat_minor": 4
}
