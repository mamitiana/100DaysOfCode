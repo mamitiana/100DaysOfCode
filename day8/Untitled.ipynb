{
 "cells": [
  {
   "cell_type": "code",
   "execution_count": 4,
   "metadata": {},
   "outputs": [
    {
     "name": "stdout",
     "output_type": "stream",
     "text": [
      "dict_keys([1, 5, 6, 4, 7, 9])\n"
     ]
    }
   ],
   "source": [
    "\n",
    "def removeDuplicate(array):\n",
    "    dcount = {}\n",
    "    for  i in array:\n",
    "        try:\n",
    "            dcount[i]+=1\n",
    "        except KeyError:\n",
    "            dcount[i] = 0\n",
    "    return dcount.keys()\n",
    "print(removeDuplicate( [ 1 , 1 ,1 ,5,5,6,4,7,9] ))"
   ]
  },
  {
   "cell_type": "code",
   "execution_count": null,
   "metadata": {},
   "outputs": [],
   "source": []
  }
 ],
 "metadata": {
  "kernelspec": {
   "display_name": "Python 3",
   "language": "python",
   "name": "python3"
  },
  "language_info": {
   "codemirror_mode": {
    "name": "ipython",
    "version": 3
   },
   "file_extension": ".py",
   "mimetype": "text/x-python",
   "name": "python",
   "nbconvert_exporter": "python",
   "pygments_lexer": "ipython3",
   "version": "3.7.4"
  }
 },
 "nbformat": 4,
 "nbformat_minor": 4
}
