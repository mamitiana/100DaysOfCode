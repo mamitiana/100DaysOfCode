{
 "cells": [
  {
   "cell_type": "markdown",
   "metadata": {},
   "source": [
    "Day 1: 100 days of Daily Coding!\n",
    "\n",
    "Today i just started my 100 days of daily coding!\n",
    "I start this coding challenge with the implementation of \"merge sort\" of mergesort. In computer science, it is one of the sorting algorithms that apply the paradigm of the divide and conquer. Mergesort is one of the earliest algorithms designed for general-purpose stored-program computers. The algorithm was developed by John von Neumann in 1945. The idea behind is:\n",
    "\n",
    "* Divide the input array into two subarrays of roughly equal size.\n",
    "* Recursively mergesort each of the subarrays.\n",
    "* Merge the newly sorted subarrays into a single sorted array.\n",
    "\n",
    "Given an unsorted array eg [4,5,8,6,1,2,3] , the output is [1, 2, 3, 4, 5, 6, 8]. It has been proven that mergesort algorithm has time complexity of O(n*lg(n)) where n is the length of the array."
   ]
  },
  {
   "cell_type": "code",
   "execution_count": 1,
   "metadata": {},
   "outputs": [
    {
     "name": "stdout",
     "output_type": "stream",
     "text": [
      "array  [4, 5, 8, 6, 1, 2, 3]\n",
      "sorted array:  [1, 2, 3, 4, 5, 6, 8]\n"
     ]
    }
   ],
   "source": [
    "def merge( listToSort , listA , listB ):\n",
    "    ''' Merge listA and listB into a sorted new array '''\n",
    "    array = listToSort    \n",
    "    i ,j , k  = 0,0,0\n",
    "    while i < len(listA) and j < len(listB):\n",
    "        ''' step by step affectation '''\n",
    "        if listA[i] < listB[j]:\n",
    "            array[k]=listA[i]\n",
    "            i+=1\n",
    "        else:\n",
    "            array[k]=listB[j]\n",
    "            j+=1\n",
    "        k+=1\n",
    "    while i < len(listA):\n",
    "        '''  fill with the remaining from listA '''\n",
    "        array[k]= listA[i]\n",
    "        i+=1\n",
    "        k+=1\n",
    "    while j < len(listB):\n",
    "        \" fill with the remaining listB\"\n",
    "        array[k]= listB[j]\n",
    "        j+=1\n",
    "        k+=1\n",
    "    return array\n",
    "\n",
    "def mergeSort(listToSort):\n",
    "    '''\n",
    "    Merge sort algorithm, divide and conquer paradigme\n",
    "    '''\n",
    "    if len(listToSort)>1:\n",
    "        split = len(listToSort)//2\n",
    "        \n",
    "        left  = listToSort[0:split] \n",
    "        right = listToSort[split:]\n",
    "        \n",
    "        left=  mergeSort(left)\n",
    "        right= mergeSort(right)\n",
    "        \n",
    "        # merge the 2 list sorted\n",
    "        return merge( listToSort , left, right)\n",
    "    else:\n",
    "        #return the list , already sorted if one\n",
    "        return listToSort\n",
    "array = [4,5,8,6,1,2,3,]\n",
    "print(\"array \", array)\n",
    "print('sorted array: ', mergeSort(array) )   "
   ]
  },
  {
   "cell_type": "code",
   "execution_count": null,
   "metadata": {},
   "outputs": [],
   "source": []
  }
 ],
 "metadata": {
  "kernelspec": {
   "display_name": "Python 3",
   "language": "python",
   "name": "python3"
  },
  "language_info": {
   "codemirror_mode": {
    "name": "ipython",
    "version": 3
   },
   "file_extension": ".py",
   "mimetype": "text/x-python",
   "name": "python",
   "nbconvert_exporter": "python",
   "pygments_lexer": "ipython3",
   "version": "3.7.4"
  }
 },
 "nbformat": 4,
 "nbformat_minor": 4
}
