{
 "cells": [
  {
   "cell_type": "code",
   "execution_count": 19,
   "metadata": {},
   "outputs": [],
   "source": [
    "def merge( listToSort , listA , listB ):\n",
    "    ''' Merge listA and listB into a sorted new array '''\n",
    "    array = listToSort    \n",
    "    i ,j , k  = 0,0,0\n",
    "    while i < len(listA) and j < len(listB):\n",
    "        ''' step by step affectation '''\n",
    "        if listA[i] < listB[j]:\n",
    "            array[k]=listA[i]\n",
    "            i+=1\n",
    "        else:\n",
    "            array[k]=listB[j]\n",
    "            j+=1\n",
    "        k+=1\n",
    "    while i < len(listA):\n",
    "        '''  fill with the remaining from listA '''\n",
    "        array[k]= listA[i]\n",
    "        i+=1\n",
    "        k+=1\n",
    "    while j < len(listB):\n",
    "        \" fill with the remaining listB\"\n",
    "        array[k]= listB[j]\n",
    "        j+=1\n",
    "        k+=1\n",
    "    return array\n",
    "\n",
    "def mergeSort(listToSort):\n",
    "    '''\n",
    "    Merge sort algorithm, divide and conquer paradigme\n",
    "    '''\n",
    "    if len(listToSort)>1:\n",
    "        split = len(listToSort)//2\n",
    "        \n",
    "        left  = listToSort[0:split] \n",
    "        right = listToSort[split:]\n",
    "        \n",
    "        left=  mergeSort(left)\n",
    "        right= mergeSort(right)\n",
    "        \n",
    "        # merge the 2 list sorted\n",
    "        return merge( listToSort , left, right)\n",
    "    else:\n",
    "        #return the list , already sorted if one\n",
    "        return listToSort\n",
    "array = [4,5,8,6,1,2,3,]\n",
    "print(\"array \", array)\n",
    "print('sorted array: ', mergeSort(array) )   "
   ]
  }
 ],
 "metadata": {
  "kernelspec": {
   "display_name": "Python 3",
   "language": "python",
   "name": "python3"
  },
  "language_info": {
   "codemirror_mode": {
    "name": "ipython",
    "version": 3
   },
   "file_extension": ".py",
   "mimetype": "text/x-python",
   "name": "python",
   "nbconvert_exporter": "python",
   "pygments_lexer": "ipython3",
   "version": "3.7.4"
  }
 },
 "nbformat": 4,
 "nbformat_minor": 4
}
