{
 "cells": [
  {
   "cell_type": "code",
   "execution_count": 20,
   "metadata": {},
   "outputs": [
    {
     "data": {
      "text/plain": [
       "array([0, 1, 2, 3])"
      ]
     },
     "execution_count": 20,
     "metadata": {},
     "output_type": "execute_result"
    }
   ],
   "source": [
    "import numpy as np\n",
    "\n",
    "def countingSort(inputs):\n",
    "    inputs = np.array(inputs, dtype='int')\n",
    "    \n",
    "    outputs = np.zeros(len(inputs)+1, dtype='int')\n",
    "    \n",
    "    k = np.max(inputs)\n",
    "    counter = np.zeros(k+1 , dtype=\"int\")\n",
    "    \n",
    "    # counter\n",
    "    # time complexity\n",
    "    counter = np.array( [ (counter[inputs[i]] +1) for i in range(len(inputs))],  dtype='int')\n",
    "    \n",
    "    \n",
    "    for i in range(1, k+1):\n",
    "        counter[i] = counter[i] + counter[i-1]\n",
    "    \n",
    "    i = len(inputs) -1\n",
    "    \n",
    "    while i != -1:\n",
    "        Ai = inputs[i]\n",
    "        C_Ai = counter[Ai]\n",
    "        outputs[C_Ai] = Ai\n",
    "        counter[Ai] = counter[Ai] -1\n",
    "        i-=1\n",
    "        \n",
    "    return outputs[1:]\n",
    "\n",
    "\n",
    "countingSort([3,1,2,0])"
   ]
  }
 ],
 "metadata": {
  "kernelspec": {
   "display_name": "Python 3",
   "language": "python",
   "name": "python3"
  },
  "language_info": {
   "codemirror_mode": {
    "name": "ipython",
    "version": 3
   },
   "file_extension": ".py",
   "mimetype": "text/x-python",
   "name": "python",
   "nbconvert_exporter": "python",
   "pygments_lexer": "ipython3",
   "version": "3.7.4"
  }
 },
 "nbformat": 4,
 "nbformat_minor": 4
}
